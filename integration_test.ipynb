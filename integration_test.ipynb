{
 "cells": [
  {
   "cell_type": "code",
   "execution_count": null,
   "id": "e99989f2",
   "metadata": {},
   "outputs": [],
   "source": [
    "import finq\n",
    "\n",
    "finq.set_log_level(10)\n",
    "finq.set_random_seed(13899814)\n"
   ]
  },
  {
   "cell_type": "code",
   "execution_count": null,
   "id": "ee92489d",
   "metadata": {},
   "outputs": [],
   "source": [
    "from finq.datasets import OMXS30\n",
    "\n",
    "dataset = OMXS30(save=True)\n",
    "dataset.run(period='1y')\n"
   ]
  },
  {
   "cell_type": "code",
   "execution_count": null,
   "id": "86f8c8ac",
   "metadata": {
    "scrolled": false
   },
   "outputs": [],
   "source": [
    "dataset.visualize(log_scale=True, ticks_rotation=50)"
   ]
  },
  {
   "cell_type": "code",
   "execution_count": null,
   "id": "c21a7789",
   "metadata": {},
   "outputs": [],
   "source": [
    "d = OMXS30(save=False)\n",
    "d.load_local_data()\n"
   ]
  },
  {
   "cell_type": "code",
   "execution_count": null,
   "id": "8b5f3572",
   "metadata": {},
   "outputs": [],
   "source": [
    "d.visualize(log_scale=True)\n"
   ]
  },
  {
   "cell_type": "code",
   "execution_count": null,
   "id": "0e527b4f",
   "metadata": {},
   "outputs": [],
   "source": []
  }
 ],
 "metadata": {
  "kernelspec": {
   "display_name": "Python 3 (ipykernel)",
   "language": "python",
   "name": "python3"
  },
  "language_info": {
   "codemirror_mode": {
    "name": "ipython",
    "version": 3
   },
   "file_extension": ".py",
   "mimetype": "text/x-python",
   "name": "python",
   "nbconvert_exporter": "python",
   "pygments_lexer": "ipython3",
   "version": "3.10.7"
  }
 },
 "nbformat": 4,
 "nbformat_minor": 5
}
